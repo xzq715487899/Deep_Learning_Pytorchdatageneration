{
  "cells": [
    {
      "cell_type": "markdown",
      "metadata": {
        "id": "gfOXmvzADfpr"
      },
      "source": [
        "# Lab: Generating Data\n",
        "\n",
        "In this lab, you will build models to perform image colourization. That is, given a greyscale image, we wish to predict the colour at each pixel. Image colourization is a difficult problem for many reasons, one of which being that it is ill-posed: for a single greyscale image, there can be multiple, equally valid colourings.\n",
        "\n",
        "To keep the training time manageable we will use the CIFAR-10 data set, which consists of images of size 32x32 pixels. For most of the questions we will use a subset of the dataset. The data loading script is included with the notebooks, and should download automatically the first time it is loaded.\n",
        "\n",
        "We will be starting with a convolutional autoencoder and tweaking it along the way to improve our perforamnce. Then as a second part of the assignment we will compare the autoencoder approach to conditional generative adversarial networks (cGANs).\n",
        "\n",
        "In the process, you are expected to learn to:\n",
        "\n",
        "1. Clean and process the dataset and create greyscale images.\n",
        "2. Implement and modify an autoencoder architecture.\n",
        "3. Tune the hyperparameters of an autoencoder.\n",
        "4. Implement skip connections and other techniques to improve performance.\n",
        "5. Implement a cGAN and compare with an autoencoder.\n",
        "6. Improve on the cGAN by trying one of several techniques to enhance training.\n",
        "\n",
        "Please use Google Colab to complete this assignment. If you want to use Jupyter Notebook, please complete the assignment and upload your Jupyter Notebook file to Google Colab for submission."
      ]
    },
    {
      "cell_type": "markdown",
      "metadata": {
        "id": "zbnrp2ig1pps"
      },
      "source": [
        "## Colab Link\n",
        "\n",
        "Include a link to your Colab file here. If you would like the TA to look at your\n",
        "Colab file in case your solutions are cut off, **please make sure that your Colab\n",
        "file is publicly accessible at the time of submission**.\n",
        "\n",
        "Colab Link:"
      ]
    },
    {
      "cell_type": "markdown",
      "metadata": {
        "id": "fFMdtipUPNdu"
      },
      "source": [
        "# PART A - Autoencoder [20 pt]\n",
        "\n",
        "In this part we will construct and compare different autoencoder models for the image colourization task."
      ]
    },
    {
      "cell_type": "markdown",
      "metadata": {
        "id": "4BIpGwANoQOg"
      },
      "source": [
        "#### Helper code\n",
        "\n",
        "Provided are some helper functions for loading and preparing the data. Note that you will need to use the Colab GPU for this assignment."
      ]
    },
    {
      "cell_type": "code",
      "execution_count": 1,
      "metadata": {
        "id": "bTF1TQObE6DG"
      },
      "outputs": [],
      "source": [
        "\"\"\"\n",
        "Colourization of CIFAR-10 Horses via classification.\n",
        "\"\"\"\n",
        "import argparse\n",
        "import math\n",
        "import time\n",
        "import pandas as pd\n",
        "import matplotlib\n",
        "import matplotlib.pyplot as plt\n",
        "import numpy as np\n",
        "import numpy.random as npr\n",
        "import scipy.misc\n",
        "import torch\n",
        "import torch.nn as nn\n",
        "import torch.nn.functional as F\n",
        "from torch.autograd import Variable\n"
      ]
    },
    {
      "cell_type": "code",
      "execution_count": 2,
      "metadata": {
        "colab": {
          "base_uri": "https://localhost:8080/"
        },
        "id": "wE_dtMgIh0SJ",
        "outputId": "96483808-062b-4e2f-8623-bd73c1bd4997"
      },
      "outputs": [
        {
          "output_type": "stream",
          "name": "stdout",
          "text": [
            "/content/a3\n"
          ]
        }
      ],
      "source": [
        "######################################################################\n",
        "# Setup working directory\n",
        "######################################################################\n",
        "%mkdir -p /content/a3/\n",
        "%cd /content/a3\n"
      ]
    },
    {
      "cell_type": "code",
      "execution_count": 3,
      "metadata": {
        "id": "piDmAsqFG0gU"
      },
      "outputs": [],
      "source": [
        "######################################################################\n",
        "# Helper functions for loading data\n",
        "######################################################################\n",
        "# adapted from\n",
        "# https://github.com/fchollet/keras/blob/master/keras/datasets/cifar10.py\n",
        "\n",
        "import os\n",
        "import pickle\n",
        "import sys\n",
        "import tarfile\n",
        "\n",
        "import numpy as np\n",
        "from PIL import Image\n",
        "from six.moves.urllib.request import urlretrieve\n",
        "\n",
        "\n",
        "def get_file(fname, origin, untar=False, extract=False, archive_format=\"auto\", cache_dir=\"data\"):\n",
        "    datadir = os.path.join(cache_dir)\n",
        "    if not os.path.exists(datadir):\n",
        "        os.makedirs(datadir)\n",
        "\n",
        "    if untar:\n",
        "        untar_fpath = os.path.join(datadir, fname)\n",
        "        fpath = untar_fpath + \".tar.gz\"\n",
        "    else:\n",
        "        fpath = os.path.join(datadir, fname)\n",
        "\n",
        "    print(\"File path: %s\" % fpath)\n",
        "    if not os.path.exists(fpath):\n",
        "        print(\"Downloading data from\", origin)\n",
        "\n",
        "        error_msg = \"URL fetch failure on {}: {} -- {}\"\n",
        "        try:\n",
        "            try:\n",
        "                urlretrieve(origin, fpath)\n",
        "            except URLError as e:\n",
        "                raise Exception(error_msg.format(origin, e.errno, e.reason))\n",
        "            except HTTPError as e:\n",
        "                raise Exception(error_msg.format(origin, e.code, e.msg))\n",
        "        except (Exception, KeyboardInterrupt) as e:\n",
        "            if os.path.exists(fpath):\n",
        "                os.remove(fpath)\n",
        "            raise\n",
        "\n",
        "    if untar:\n",
        "        if not os.path.exists(untar_fpath):\n",
        "            print(\"Extracting file.\")\n",
        "            with tarfile.open(fpath) as archive:\n",
        "                archive.extractall(datadir)\n",
        "        return untar_fpath\n",
        "\n",
        "    if extract:\n",
        "        _extract_archive(fpath, datadir, archive_format)\n",
        "\n",
        "    return fpath\n",
        "\n",
        "\n",
        "def load_batch(fpath, label_key=\"labels\"):\n",
        "    \"\"\"Internal utility for parsing CIFAR data.\n",
        "    # Arguments\n",
        "        fpath: path the file to parse.\n",
        "        label_key: key for label data in the retrieve\n",
        "            dictionary.\n",
        "    # Returns\n",
        "        A tuple `(data, labels)`.\n",
        "    \"\"\"\n",
        "    f = open(fpath, \"rb\")\n",
        "    if sys.version_info < (3,):\n",
        "        d = pickle.load(f)\n",
        "    else:\n",
        "        d = pickle.load(f, encoding=\"bytes\")\n",
        "        # decode utf8\n",
        "        d_decoded = {}\n",
        "        for k, v in d.items():\n",
        "            d_decoded[k.decode(\"utf8\")] = v\n",
        "        d = d_decoded\n",
        "    f.close()\n",
        "    data = d[\"data\"]\n",
        "    labels = d[label_key]\n",
        "\n",
        "    data = data.reshape(data.shape[0], 3, 32, 32)\n",
        "    return data, labels\n",
        "\n",
        "\n",
        "def load_cifar10(transpose=False):\n",
        "    \"\"\"Loads CIFAR10 dataset.\n",
        "    # Returns\n",
        "        Tuple of Numpy arrays: `(x_train, y_train), (x_test, y_test)`.\n",
        "    \"\"\"\n",
        "    dirname = \"cifar-10-batches-py\"\n",
        "    origin = \"http://www.cs.toronto.edu/~kriz/cifar-10-python.tar.gz\"\n",
        "    path = get_file(dirname, origin=origin, untar=True)\n",
        "\n",
        "    num_train_samples = 50000\n",
        "\n",
        "    x_train = np.zeros((num_train_samples, 3, 32, 32), dtype=\"uint8\")\n",
        "    y_train = np.zeros((num_train_samples,), dtype=\"uint8\")\n",
        "\n",
        "    for i in range(1, 6):\n",
        "        fpath = os.path.join(path, \"data_batch_\" + str(i))\n",
        "        data, labels = load_batch(fpath)\n",
        "        x_train[(i - 1) * 10000 : i * 10000, :, :, :] = data\n",
        "        y_train[(i - 1) * 10000 : i * 10000] = labels\n",
        "\n",
        "    fpath = os.path.join(path, \"test_batch\")\n",
        "    x_test, y_test = load_batch(fpath)\n",
        "\n",
        "    y_train = np.reshape(y_train, (len(y_train), 1))\n",
        "    y_test = np.reshape(y_test, (len(y_test), 1))\n",
        "\n",
        "    if transpose:\n",
        "        x_train = x_train.transpose(0, 2, 3, 1)\n",
        "        x_test = x_test.transpose(0, 2, 3, 1)\n",
        "    return (x_train, y_train), (x_test, y_test)"
      ]
    },
    {
      "cell_type": "code",
      "execution_count": 4,
      "metadata": {
        "colab": {
          "base_uri": "https://localhost:8080/"
        },
        "id": "l7fti3cryStt",
        "outputId": "d2b11318-ee36-4bbb-b943-d0360d77cc4a"
      },
      "outputs": [
        {
          "output_type": "stream",
          "name": "stdout",
          "text": [
            "File path: data/cifar-10-batches-py.tar.gz\n"
          ]
        }
      ],
      "source": [
        "# Download CIFAR dataset\n",
        "m = load_cifar10()"
      ]
    },
    {
      "cell_type": "markdown",
      "metadata": {
        "id": "A2TWonhyn0FK"
      },
      "source": [
        "## Part 1. Data Preparation [7 pt]\n",
        "\n",
        "To start off run the above code to load the CIFAR dataset and then work through the following questions/tasks.\n",
        "\n",
        "### Part (a) [1pt]\n",
        "Verify that the dataset has loaded correctly. How many samples do we have? How is the data organized?"
      ]
    },
    {
      "cell_type": "code",
      "source": [
        "from keras.datasets.cifar10 import load_data\n",
        "# load the images into memory\n",
        "(trainX, trainy), (testX, testy) = load_data()\n",
        "# summarize\n",
        "print('Train', trainX.shape, trainy.shape)\n",
        "print('Test', testX.shape, testy.shape)"
      ],
      "metadata": {
        "colab": {
          "base_uri": "https://localhost:8080/"
        },
        "id": "Jzy5QBSzgQcT",
        "outputId": "b2675503-fb89-46a4-c96f-205f9a9c07fd"
      },
      "execution_count": 5,
      "outputs": [
        {
          "output_type": "stream",
          "name": "stdout",
          "text": [
            "Train (50000, 32, 32, 3) (50000, 1)\n",
            "Test (10000, 32, 32, 3) (10000, 1)\n"
          ]
        }
      ]
    },
    {
      "cell_type": "markdown",
      "source": [
        "We have 50000 samples for train and 10000 smaples for test.\n",
        "\n"
      ],
      "metadata": {
        "id": "PTSdOHDekAAB"
      }
    },
    {
      "cell_type": "code",
      "source": [
        "# example of loading and plotting the cifar10 dataset\n",
        "from keras.datasets.cifar10 import load_data\n",
        "from matplotlib import pyplot\n",
        "# load the images into memory\n",
        "(trainX, trainy), (testX, testy) = load_data()\n",
        "# plot images from the training dataset\n",
        "for i in range(49):\n",
        "\t# define subplot\n",
        "\tpyplot.subplot(7, 7, 1 + i)\n",
        "\t# turn off axis\n",
        "\tpyplot.axis('off')\n",
        "\t# plot raw pixel data\n",
        "\tpyplot.imshow(trainX[i])\n",
        "pyplot.show()"
      ],
      "metadata": {
        "id": "MF7SL_3akAo4"
      },
      "execution_count": null,
      "outputs": []
    },
    {
      "cell_type": "markdown",
      "metadata": {
        "id": "wDqVs87xpA40"
      },
      "source": [
        "### Part (b) [2pt]\n",
        "Preprocess the data to select only images of horses. Learning to generate only hourse images will make our task easier. Your function will also convert the colour images to greyscale to create our input data."
      ]
    },
    {
      "cell_type": "code",
      "execution_count": null,
      "metadata": {
        "id": "-900ROTMlSPd"
      },
      "outputs": [],
      "source": [
        "# select a single category.\n",
        "HORSE_CATEGORY = 7\n",
        "\n",
        "# convert colour images into greyscale\n",
        "def process(xs, ys, max_pixel=256.0, downsize_input=False):\n",
        "    \"\"\"\n",
        "    Pre-process CIFAR10 images by taking only the horse category,\n",
        "    shuffling, and have colour values be bound between 0 and 1\n",
        "\n",
        "    Args:\n",
        "      xs: the colour RGB pixel values\n",
        "      ys: the category labels\n",
        "      max_pixel: maximum pixel value in the original data\n",
        "    Returns:\n",
        "      xs: value normalized and shuffled colour images\n",
        "      grey: greyscale images, also normalized so values are between 0 and 1\n",
        "    \"\"\"\n",
        "    xs = xs / max_pixel\n",
        "    xs = xs[np.where(ys == HORSE_CATEGORY)[0], :, :, :]\n",
        "    npr.shuffle(xs)\n",
        "\n",
        "    grey = np.mean(xs, axis=1, keepdims=True)\n",
        "\n",
        "    if downsize_input:\n",
        "        downsize_module = nn.Sequential(\n",
        "            nn.AvgPool2d(2),\n",
        "            nn.AvgPool2d(2),\n",
        "            nn.Upsample(scale_factor=2),\n",
        "            nn.Upsample(scale_factor=2),\n",
        "        )\n",
        "        xs_downsized = downsize_module.forward(torch.from_numpy(xs).float())\n",
        "        xs_downsized = xs_downsized.data.numpy()\n",
        "        return (xs, xs_downsized)\n",
        "    else:\n",
        "        return (xs, grey)\n"
      ]
    },
    {
      "cell_type": "code",
      "source": [
        "print(\"Loading data...\")\n",
        "(x_train, y_train), (x_test, y_test) = load_cifar10()\n",
        "\n",
        "print(\"Transforming data...\")\n",
        "train_rgb, train_grey = process(x_train, y_train)\n",
        "test_rgb, test_grey = process(x_test, y_test)\n",
        "\n",
        "print('First 10 Images in the dataset:')\n",
        "fig = plt.figure(figsize=(18, 10))\n",
        "for i in range(0, 10):\n",
        "    ax = fig.add_subplot(2, 5, i+1, xticks=[], yticks=[])\n",
        "    plt.imshow(np.transpose(train_rgb[i], (1, 2, 0)))\n",
        "plt.show()"
      ],
      "metadata": {
        "id": "znfy4KWEkRUK"
      },
      "execution_count": null,
      "outputs": []
    },
    {
      "cell_type": "code",
      "source": [
        "(trainFeatures, trainLabels), (testFeatures, testLabels) = load_data()\n",
        "numTrain, imgRows, imgCols, imgChannels = trainFeatures.shape\n",
        "numTest, _, _, _ = testFeatures.shape\n",
        "numClasses = len(np.unique(trainLabels))\n",
        "\n",
        "trainHorseIndex = np.where(trainLabels[:]==7)[0]\n",
        "trainHorseFeatures = trainFeatures[trainHorseIndex,::]\n",
        "trainHorseLabels = trainLabels[trainHorseIndex,::]\n",
        "print('Number of Training Instances:', trainHorseFeatures.shape[0])\n",
        "\n",
        "testHorseIndex = (np.where(testLabels[:]==7)[0])\n",
        "testHorseFeatures = testFeatures[testHorseIndex,::]\n",
        "testHorseLabels = testLabels[testHorseIndex,::]\n",
        "print('Number of Testing Instances:', testHorseFeatures.shape[0])\n",
        "\n",
        "cifarDataX = np.concatenate((trainHorseFeatures, testHorseFeatures), axis=0)\n",
        "cifarDataY = np.concatenate((trainHorseLabels, testHorseLabels),axis=0)\n",
        "\n",
        "print('First 10 Images in the dataset:')\n",
        "fig = plt.figure(figsize=(8, 3))\n",
        "for i in range(0, 10):\n",
        "    ax = fig.add_subplot(2, 5, i+1, xticks=[], yticks=[])\n",
        "    plt.imshow(cifarDataX[i])\n",
        "plt.show()"
      ],
      "metadata": {
        "id": "rYS6JyEbkTkJ"
      },
      "execution_count": null,
      "outputs": []
    },
    {
      "cell_type": "markdown",
      "metadata": {
        "id": "jHSeX3ADsQu5"
      },
      "source": [
        "### Part (c) [2pt]\n",
        "Create a dataloader (or function) to batch the samples."
      ]
    },
    {
      "cell_type": "code",
      "execution_count": null,
      "metadata": {
        "id": "6kU_rnNssXwU"
      },
      "outputs": [],
      "source": [
        "# dataloader for batching samples\n",
        "\n",
        "def get_batch(x, y, batch_size):\n",
        "    \"\"\"\n",
        "    Generated that yields batches of data\n",
        "\n",
        "    Args:\n",
        "      x: input values\n",
        "      y: output values\n",
        "      batch_size: size of each batch\n",
        "    Yields:\n",
        "      batch_x: a batch of inputs of size at most batch_size\n",
        "      batch_y: a batch of outputs of size at most batch_size\n",
        "    \"\"\"\n",
        "    N = np.shape(x)[0]\n",
        "    assert N == np.shape(y)[0]\n",
        "    for i in range(0, N, batch_size):\n",
        "        batch_x = x[i : i + batch_size, :, :, :]\n",
        "        batch_y = y[i : i + batch_size, :, :, :]\n",
        "        yield (batch_x, batch_y)"
      ]
    },
    {
      "cell_type": "code",
      "source": [
        "# obtain batches of images\n",
        "xs, ys = next(iter(get_batch(train_grey, train_rgb, 10)))\n",
        "print(xs.shape, ys.shape)"
      ],
      "metadata": {
        "id": "PiegVO0UnHOk"
      },
      "execution_count": null,
      "outputs": []
    },
    {
      "cell_type": "markdown",
      "metadata": {
        "id": "CjPTh0sjsgkV"
      },
      "source": [
        "### Part (e) [2pt]\n",
        "Verify and visualize that we are able to generate different batches of data."
      ]
    },
    {
      "cell_type": "code",
      "execution_count": null,
      "metadata": {
        "id": "h7zubylhiipE"
      },
      "outputs": [],
      "source": [
        "# code to load different batches of horse dataset\n",
        "\n",
        "print(\"Loading data...\")\n",
        "(x_train, y_train), (x_test, y_test) = load_cifar10()\n",
        "\n",
        "print(\"Transforming data...\")\n",
        "train_rgb, train_grey = process(x_train, y_train)\n",
        "test_rgb, test_grey = process(x_test, y_test)\n"
      ]
    },
    {
      "cell_type": "code",
      "execution_count": null,
      "metadata": {
        "id": "Wek0NfrHjNWE"
      },
      "outputs": [],
      "source": [
        "# shape of data and labels before selection\n",
        "print(x_train.shape, y_train.shape)"
      ]
    },
    {
      "cell_type": "code",
      "execution_count": null,
      "metadata": {
        "id": "_Qpj_1-yjfM-"
      },
      "outputs": [],
      "source": [
        "# shape of training data\n",
        "print('Training Data: ', train_rgb.shape, train_grey.shape)\n",
        "# shape of testing data\n",
        "print('Testing Data: ', test_rgb.shape, test_grey.shape)"
      ]
    },
    {
      "cell_type": "markdown",
      "metadata": {
        "id": "pHBOzMJPpNbq"
      },
      "source": [
        "Load Batches"
      ]
    },
    {
      "cell_type": "code",
      "execution_count": null,
      "metadata": {
        "id": "CfGh9pZOpP3r"
      },
      "outputs": [],
      "source": [
        "# obtain batches of images\n",
        "xs, ys = next(iter(get_batch(train_grey, train_rgb, 10)))\n",
        "print(xs.shape, ys.shape)"
      ]
    },
    {
      "cell_type": "markdown",
      "metadata": {
        "id": "NUg_-oB_o9Wf"
      },
      "source": [
        "Visualization"
      ]
    },
    {
      "cell_type": "code",
      "execution_count": null,
      "metadata": {
        "id": "9bGPAI4Go_q_"
      },
      "outputs": [],
      "source": [
        "# visualize 5 train images\n",
        "\n",
        "print('First 5 Images in the dataset:')\n",
        "fig = plt.figure(figsize=(18, 10))\n",
        "for i in range(0, 5):\n",
        "    ax = fig.add_subplot(2, 5, i+1, xticks=[], yticks=[])\n",
        "    plt.imshow(np.transpose(train_rgb[i], (1, 2, 0)))\n",
        "plt.show()\n",
        "\n",
        "\n",
        "\n"
      ]
    },
    {
      "cell_type": "code",
      "source": [
        "# visualize 5 test images\n",
        "\n",
        "print('First 5 Images in the dataset:')\n",
        "fig = plt.figure(figsize=(18, 10))\n",
        "for i in range(0, 5):\n",
        "    ax = fig.add_subplot(2, 5, i+1, xticks=[], yticks=[])\n",
        "    plt.imshow(np.transpose(test_rgb[i], (1, 2, 0)))\n",
        "plt.show()"
      ],
      "metadata": {
        "id": "xOhmnoFUnUGJ"
      },
      "execution_count": null,
      "outputs": []
    },
    {
      "cell_type": "markdown",
      "metadata": {
        "id": "LAqGXV0iK1G9"
      },
      "source": [
        "## Part 2. Colourization as Regression [5 pt]\n",
        "\n",
        "There are many ways to frame the problem of image colourization as a machine learning problem. One naive approach is to frame it as a regression problem, where we build a model to predict the RGB intensities at each pixel given the greyscale input. In this case, the outputs are continuous, and so squared error can be used to train the model.\n",
        "\n",
        "In this section, you will get familar with training neural networks using cloud GPUs. Run the helper code and answer the questions that follow.\n",
        "\n",
        "#### Helper Code"
      ]
    },
    {
      "cell_type": "markdown",
      "metadata": {
        "id": "9hNqfK1AktAE"
      },
      "source": [
        "Regression Architecture"
      ]
    },
    {
      "cell_type": "code",
      "execution_count": null,
      "metadata": {
        "id": "XOG_sFloK9gs"
      },
      "outputs": [],
      "source": [
        "class RegressionCNN(nn.Module):\n",
        "    def __init__(self, kernel, num_filters):\n",
        "        # first call parent's initialization function\n",
        "        super().__init__()\n",
        "        padding = kernel // 2\n",
        "\n",
        "        self.downconv1 = nn.Sequential(\n",
        "            nn.Conv2d(1, num_filters, kernel_size=kernel, padding=padding),\n",
        "            nn.BatchNorm2d(num_filters),\n",
        "            nn.ReLU(),\n",
        "            nn.MaxPool2d(2),)\n",
        "        self.downconv2 = nn.Sequential(\n",
        "            nn.Conv2d(num_filters, num_filters*2, kernel_size=kernel, padding=padding),\n",
        "            nn.BatchNorm2d(num_filters*2),\n",
        "            nn.ReLU(),\n",
        "            nn.MaxPool2d(2),)\n",
        "\n",
        "        self.rfconv = nn.Sequential(\n",
        "            nn.Conv2d(num_filters*2, num_filters*2, kernel_size=kernel, padding=padding),\n",
        "            nn.BatchNorm2d(num_filters*2),\n",
        "            nn.ReLU())\n",
        "\n",
        "        self.upconv1 = nn.Sequential(\n",
        "            nn.Conv2d(num_filters*2, num_filters, kernel_size=kernel, padding=padding),\n",
        "            nn.BatchNorm2d(num_filters),\n",
        "            nn.ReLU(),\n",
        "            nn.Upsample(scale_factor=2),)\n",
        "        self.upconv2 = nn.Sequential(\n",
        "            nn.Conv2d(num_filters, 3, kernel_size=kernel, padding=padding),\n",
        "            nn.BatchNorm2d(3),\n",
        "            nn.ReLU(),\n",
        "            nn.Upsample(scale_factor=2),)\n",
        "        self.finalconv = nn.Conv2d(3, 3, kernel_size=kernel, padding=padding)\n",
        "\n",
        "    def forward(self, x):\n",
        "        out = self.downconv1(x)\n",
        "        out = self.downconv2(out)\n",
        "        out = self.rfconv(out)\n",
        "        out = self.upconv1(out)\n",
        "        out = self.upconv2(out)\n",
        "        out = self.finalconv(out)\n",
        "        return out"
      ]
    },
    {
      "cell_type": "markdown",
      "metadata": {
        "id": "6nXIHUDdkbe_"
      },
      "source": [
        "Training code"
      ]
    },
    {
      "cell_type": "code",
      "execution_count": null,
      "metadata": {
        "id": "UPJG13lnka2w"
      },
      "outputs": [],
      "source": [
        "class AttrDict(dict):\n",
        "    def __init__(self, *args, **kwargs):\n",
        "        super(AttrDict, self).__init__(*args, **kwargs)\n",
        "        self.__dict__ = self\n",
        "\n",
        "def get_torch_vars(xs, ys, gpu=False):\n",
        "    \"\"\"\n",
        "    Helper function to convert numpy arrays to pytorch tensors.\n",
        "    If GPU is used, move the tensors to GPU.\n",
        "\n",
        "    Args:\n",
        "      xs (float numpy tenosor): greyscale input\n",
        "      ys (int numpy tenosor): rgb as labels\n",
        "      gpu (bool): whether to move pytorch tensor to GPU\n",
        "    Returns:\n",
        "      Variable(xs), Variable(ys)\n",
        "    \"\"\"\n",
        "    xs = torch.from_numpy(xs).float()\n",
        "    ys = torch.from_numpy(ys).float()\n",
        "    if gpu:\n",
        "        xs = xs.cuda()\n",
        "        ys = ys.cuda()\n",
        "    return Variable(xs), Variable(ys)\n",
        "\n",
        "def train(args, gen=None):\n",
        "\n",
        "    # Numpy random seed\n",
        "    npr.seed(args.seed)\n",
        "\n",
        "    # Save directory\n",
        "    save_dir = \"outputs/\" + args.experiment_name\n",
        "\n",
        "    # LOAD THE MODEL\n",
        "    if gen is None:\n",
        "        Net = globals()[args.model]\n",
        "        gen = Net(args.kernel, args.num_filters)\n",
        "\n",
        "    # LOSS FUNCTION\n",
        "    criterion = nn.MSELoss()\n",
        "    optimizer = torch.optim.Adam(gen.parameters(), lr=args.learn_rate)\n",
        "\n",
        "    # DATA\n",
        "    print(\"Loading data...\")\n",
        "    (x_train, y_train), (x_test, y_test) = load_cifar10()\n",
        "\n",
        "    print(\"Transforming data...\")\n",
        "    train_rgb, train_grey = process(x_train, y_train, downsize_input=args.downsize_input)\n",
        "    test_rgb, test_grey = process(x_test, y_test, downsize_input=args.downsize_input)\n",
        "\n",
        "    # Create the outputs folder if not created already\n",
        "    if not os.path.exists(save_dir):\n",
        "        os.makedirs(save_dir)\n",
        "\n",
        "    print(\"Beginning training ...\")\n",
        "    if args.gpu:\n",
        "        gen.cuda()\n",
        "    start = time.time()\n",
        "\n",
        "    train_losses = []\n",
        "    valid_losses = []\n",
        "    valid_accs = []\n",
        "    for epoch in range(args.epochs):\n",
        "        # Train the Model\n",
        "        gen.train()  # Change model to 'train' mode\n",
        "        losses = []\n",
        "        for i, (xs, ys) in enumerate(get_batch(train_grey, train_rgb, args.batch_size)):\n",
        "            images, labels = get_torch_vars(xs, ys, args.gpu)\n",
        "            # Forward + Backward + Optimize\n",
        "            optimizer.zero_grad()\n",
        "            outputs = gen(images)\n",
        "\n",
        "            loss = criterion(outputs, labels)\n",
        "            loss.backward()\n",
        "            optimizer.step()\n",
        "            losses.append(loss.data.item())\n",
        "\n",
        "        print(epoch, loss.cpu().detach())\n",
        "        if args.plot:\n",
        "          visual(images, labels, outputs, args.gpu, 1)\n",
        "\n",
        "    return gen"
      ]
    },
    {
      "cell_type": "markdown",
      "metadata": {
        "id": "ppqKboqz-zX-"
      },
      "source": [
        "Training visualization code"
      ]
    },
    {
      "cell_type": "code",
      "execution_count": null,
      "metadata": {
        "id": "gbL_Vlao-yau"
      },
      "outputs": [],
      "source": [
        "# visualize 5 train/test images\n",
        "def visual(img_grey, img_real, img_fake, gpu = 0, flag_torch = 0):\n",
        "\n",
        "  if gpu:\n",
        "    img_grey = img_grey.cpu().detach()\n",
        "    img_real = img_real.cpu().detach()\n",
        "    img_fake = img_fake.cpu().detach()\n",
        "\n",
        "  if flag_torch:\n",
        "    img_grey = img_grey.numpy()\n",
        "    img_real = img_real.numpy()\n",
        "    img_fake = img_fake.numpy()\n",
        "\n",
        "  if flag_torch == 2:\n",
        "    img_real = np.transpose(img_real[:, :, :, :, :], [0, 4, 2, 3, 1]).squeeze()\n",
        "    img_fake = np.transpose(img_fake[:, :, :, :, :], [0, 4, 2, 3, 1]).squeeze()\n",
        "\n",
        "  #correct image structure\n",
        "  img_grey = np.transpose(img_grey[:5, :, :, :], [0, 2, 3, 1]).squeeze()\n",
        "  img_real = np.transpose(img_real[:5, :, :, :], [0, 2, 3, 1])\n",
        "  img_fake = np.transpose(img_fake[:5, :, :, :], [0, 2, 3, 1])\n",
        "\n",
        "  for i in range(5):\n",
        "      ax = plt.subplot(3, 5, i + 1)\n",
        "      ax.imshow(img_grey[i], cmap='gray')\n",
        "      ax.axis(\"off\")\n",
        "      ax = plt.subplot(3, 5, i + 1 + 5)\n",
        "      ax.imshow(img_real[i])\n",
        "      ax.axis(\"off\")\n",
        "      ax = plt.subplot(3, 5, i + 1 + 10)\n",
        "      ax.imshow(img_fake[i])\n",
        "      ax.axis(\"off\")\n",
        "  plt.show()"
      ]
    },
    {
      "cell_type": "markdown",
      "metadata": {
        "id": "CTZWiuxMjQTB"
      },
      "source": [
        "Main training loop for regression CNN"
      ]
    },
    {
      "cell_type": "code",
      "execution_count": null,
      "metadata": {
        "id": "fZHc_eStGAQz"
      },
      "outputs": [],
      "source": [
        "#Main training loop for CNN\n",
        "args = AttrDict()\n",
        "args_dict = {\n",
        "    \"gpu\": True,\n",
        "    \"valid\": False,\n",
        "    \"checkpoint\": \"\",\n",
        "    \"colours\": \"./data/colours/colour_kmeans24_cat7.npy\",\n",
        "    \"model\": \"RegressionCNN\",\n",
        "    \"kernel\": 3,\n",
        "    \"num_filters\": 32,\n",
        "    'learn_rate':0.001,\n",
        "    \"batch_size\": 100,\n",
        "    \"epochs\": 25,\n",
        "    \"seed\": 0,\n",
        "    \"plot\": True,\n",
        "    \"experiment_name\": \"colourization_cnn\",\n",
        "    \"visualize\": False,\n",
        "    \"downsize_input\": False,\n",
        "}\n",
        "\n",
        "args.update(args_dict)\n",
        "cnn = train(args)"
      ]
    },
    {
      "cell_type": "markdown",
      "metadata": {
        "id": "-KCy7KexsLgl"
      },
      "source": [
        "### Part (a) [1 pt]\n",
        "Describe the model RegressionCNN. How many convolution layers does it have? What are the filter sizes and number of filters at each layer? Construct a table or draw a diagram."
      ]
    },
    {
      "cell_type": "code",
      "source": [
        "Layers = ['Layer1', 'Layer2', 'Layer3', 'Layer4', 'Layer5', 'Layer6']\n",
        "filter_sizes = ['3*3*1', '3*3*32', '3*3*64', '3*3*64', '3*3*32', '3*3*3']\n",
        "number_filters = [32, 64, 64, 32, 3, 3]\n",
        "table = pd.DataFrame({'Layers':Layers,\n",
        "              'filter sizes': filter_sizes,\n",
        "              'number of filters': number_filters})\n",
        "table"
      ],
      "metadata": {
        "id": "28yibL4d0c_S"
      },
      "execution_count": null,
      "outputs": []
    },
    {
      "cell_type": "markdown",
      "metadata": {
        "id": "u-Zx_yc-f98q"
      },
      "source": [
        "Answer:5 layers"
      ]
    },
    {
      "cell_type": "markdown",
      "metadata": {
        "id": "eXTM_iITgED9"
      },
      "source": [
        "### Part (b) [1 pt]\n",
        "Run the regression training code (should run without errors). This will generate some images. How many epochs are we training the CNN model in the given setting?"
      ]
    },
    {
      "cell_type": "markdown",
      "metadata": {
        "id": "5-JJ2KD4gED-"
      },
      "source": [
        "Answer:25"
      ]
    },
    {
      "cell_type": "markdown",
      "metadata": {
        "id": "M5hSmTLxgEWG"
      },
      "source": [
        "### Part (c) [3 pt]\n",
        "Re-train a couple of new models using a different number of training epochs. You may train each new models in a new code cell by copying and modifying the code from the last notebook cell. Comment on how the results (output images, training loss) change as we increase or decrease the number of epochs."
      ]
    },
    {
      "cell_type": "code",
      "source": [
        "#Main training loop for CNN\n",
        "args = AttrDict()\n",
        "args_dict = {\n",
        "    \"gpu\": True,\n",
        "    \"valid\": False,\n",
        "    \"checkpoint\": \"\",\n",
        "    \"colours\": \"./data/colours/colour_kmeans24_cat7.npy\",\n",
        "    \"model\": \"RegressionCNN\",\n",
        "    \"kernel\": 3,\n",
        "    \"num_filters\": 32,\n",
        "    'learn_rate':0.001,\n",
        "    \"batch_size\": 100,\n",
        "    \"epochs\": 20,\n",
        "    \"seed\": 0,\n",
        "    \"plot\": True,\n",
        "    \"experiment_name\": \"colourization_cnn\",\n",
        "    \"visualize\": False,\n",
        "    \"downsize_input\": False,\n",
        "}\n",
        "\n",
        "args.update(args_dict)\n",
        "cnn = train(args)"
      ],
      "metadata": {
        "id": "HYhYyT5b1EeI"
      },
      "execution_count": null,
      "outputs": []
    },
    {
      "cell_type": "code",
      "source": [
        "#Main training loop for CNN\n",
        "args = AttrDict()\n",
        "args_dict = {\n",
        "    \"gpu\": True,\n",
        "    \"valid\": False,\n",
        "    \"checkpoint\": \"\",\n",
        "    \"colours\": \"./data/colours/colour_kmeans24_cat7.npy\",\n",
        "    \"model\": \"RegressionCNN\",\n",
        "    \"kernel\": 3,\n",
        "    \"num_filters\": 32,\n",
        "    'learn_rate':0.001,\n",
        "    \"batch_size\": 100,\n",
        "    \"epochs\": 15,\n",
        "    \"seed\": 0,\n",
        "    \"plot\": True,\n",
        "    \"experiment_name\": \"colourization_cnn\",\n",
        "    \"visualize\": False,\n",
        "    \"downsize_input\": False,\n",
        "}\n",
        "\n",
        "args.update(args_dict)\n",
        "cnn = train(args)"
      ],
      "metadata": {
        "id": "hdfW8b2V1QfR"
      },
      "execution_count": null,
      "outputs": []
    },
    {
      "cell_type": "code",
      "source": [
        "#Main training loop for CNN\n",
        "args = AttrDict()\n",
        "args_dict = {\n",
        "    \"gpu\": True,\n",
        "    \"valid\": False,\n",
        "    \"checkpoint\": \"\",\n",
        "    \"colours\": \"./data/colours/colour_kmeans24_cat7.npy\",\n",
        "    \"model\": \"RegressionCNN\",\n",
        "    \"kernel\": 3,\n",
        "    \"num_filters\": 32,\n",
        "    'learn_rate':0.001,\n",
        "    \"batch_size\": 100,\n",
        "    \"epochs\": 30,\n",
        "    \"seed\": 0,\n",
        "    \"plot\": True,\n",
        "    \"experiment_name\": \"colourization_cnn\",\n",
        "    \"visualize\": False,\n",
        "    \"downsize_input\": False,\n",
        "}\n",
        "\n",
        "args.update(args_dict)\n",
        "cnn = train(args)"
      ],
      "metadata": {
        "id": "N-OPp-0Q1Vnw"
      },
      "execution_count": null,
      "outputs": []
    },
    {
      "cell_type": "code",
      "source": [
        "#Main training loop for CNN\n",
        "args = AttrDict()\n",
        "args_dict = {\n",
        "    \"gpu\": True,\n",
        "    \"valid\": False,\n",
        "    \"checkpoint\": \"\",\n",
        "    \"colours\": \"./data/colours/colour_kmeans24_cat7.npy\",\n",
        "    \"model\": \"RegressionCNN\",\n",
        "    \"kernel\": 3,\n",
        "    \"num_filters\": 32,\n",
        "    'learn_rate':0.001,\n",
        "    \"batch_size\": 100,\n",
        "    \"epochs\": 35,\n",
        "    \"seed\": 0,\n",
        "    \"plot\": True,\n",
        "    \"experiment_name\": \"colourization_cnn\",\n",
        "    \"visualize\": False,\n",
        "    \"downsize_input\": False,\n",
        "}\n",
        "\n",
        "args.update(args_dict)\n",
        "cnn = train(args)"
      ],
      "metadata": {
        "id": "pJNCi_go1aBB"
      },
      "execution_count": null,
      "outputs": []
    },
    {
      "cell_type": "markdown",
      "metadata": {
        "id": "2fTXWbe4gEWH"
      },
      "source": [
        "Answer: when epochs = 15, the final training loss = 0.0111, When epochs = 20, the final training loss = 0.0089, when epochs = 25, the final training loss = 0.0088, when epochs = 30, the final training loss = 0.0083, when epochs = 35, the final training loss = 0.0078, we can conclude that final training loss decrease with epochs, the output image becomes clearer as the epoch increases"
      ]
    },
    {
      "cell_type": "markdown",
      "metadata": {
        "id": "kb248qFXhq1m"
      },
      "source": [
        "## Part 3. Skip Connections [8 pt]\n",
        "A skip connection in a neural network is a connection which skips one or more layer and connects to a later layer. We will introduce skip connections."
      ]
    },
    {
      "cell_type": "markdown",
      "metadata": {
        "id": "babFMNf_h9UM"
      },
      "source": [
        "### Part (a) [4 pt]\n",
        "Add a skip connection from the first layer to the last, second layer to the second last, etc.\n",
        "That is, the final convolution should have both the output of the previous layer and the initial greyscale input as input. This type of skip-connection is introduced by [3], and is called a \"UNet\". Following the CNN class that you have completed, complete the __init__ and forward methods of the UNet class.\n",
        "Hint: You will need to use the function torch.cat."
      ]
    },
    {
      "cell_type": "code",
      "execution_count": null,
      "metadata": {
        "id": "vsipREOi1r7F"
      },
      "outputs": [],
      "source": [
        "#complete the code\n",
        "\n",
        "class UNet(nn.Module):\n",
        "    def __init__(self, kernel, num_filters, num_colours=3, num_in_channels=1):\n",
        "        super().__init__()\n",
        "\n",
        "        # Useful parameters\n",
        "        stride = 2\n",
        "        padding = kernel // 2\n",
        "        output_padding = 1\n",
        "\n",
        "        ############### YOUR CODE GOES HERE ###############\n",
        "        ###################################################\n",
        "        self.downconv1 = nn.Sequential(\n",
        "            nn.Conv2d(num_in_channels, num_filters, kernel_size=kernel, padding=padding),\n",
        "            nn.BatchNorm2d(num_filters),\n",
        "            nn.ReLU(),\n",
        "            nn.MaxPool2d(2),)\n",
        "        self.downconv2 = nn.Sequential(\n",
        "            nn.Conv2d(num_filters, num_filters*2, kernel_size=kernel, padding=padding),\n",
        "            nn.BatchNorm2d(num_filters*2),\n",
        "            nn.ReLU(),\n",
        "            nn.MaxPool2d(2),)\n",
        "\n",
        "        self.rfconv = nn.Sequential(\n",
        "            nn.Conv2d(num_filters*2, num_filters*2, kernel_size=kernel, padding=padding),\n",
        "            nn.BatchNorm2d(num_filters*2),\n",
        "            nn.ReLU())\n",
        "\n",
        "        self.upconv1 = nn.Sequential(\n",
        "            nn.Conv2d(2*num_filters*2, num_filters, kernel_size=kernel, padding=padding),\n",
        "            nn.BatchNorm2d(num_filters),\n",
        "            nn.ReLU(),\n",
        "            nn.Upsample(scale_factor=2),)\n",
        "        self.upconv2 = nn.Sequential(\n",
        "            nn.Conv2d(2*num_filters, num_colours, kernel_size=kernel, padding=padding),\n",
        "            nn.BatchNorm2d(3),\n",
        "            nn.ReLU(),\n",
        "            nn.Upsample(scale_factor=2),)\n",
        "        self.finalconv = nn.Conv2d(num_colours+num_in_channels, num_colours, kernel_size=kernel, padding=output_padding)\n",
        "\n",
        "\n",
        "\n",
        "    def forward(self, x):\n",
        "        ############### YOUR CODE GOES HERE ###############\n",
        "        ###################################################\n",
        "        out1 = self.downconv1(x)\n",
        "        out2 = self.downconv2(out1)\n",
        "        out3 = self.rfconv(out2)\n",
        "        out4 = self.upconv1(torch.cat((out2,out3),1))\n",
        "        out5 = self.upconv2(torch.cat((out1,out4),1))\n",
        "        out6 = self.finalconv(torch.cat((x,out5),1))\n",
        "\n",
        "        return out6"
      ]
    },
    {
      "cell_type": "markdown",
      "metadata": {
        "id": "6VzFtk3hh9UN"
      },
      "source": [
        "### Part (b) [2 pt]\n",
        "Train the \"UNet\" model for the same amount of epochs as the previous CNN and plot the training curve using a batch size of 100. How does the result compare to the previous model? Did skip connections improve the validation loss and accuracy? Did the skip connections improve the output qualitatively? How? Give at least two reasons why skip connections might improve the performance of our CNN models."
      ]
    },
    {
      "cell_type": "code",
      "execution_count": null,
      "metadata": {
        "id": "2-vGs7qHndmY"
      },
      "outputs": [],
      "source": [
        "# Main training loop for UNet\n",
        "args = AttrDict()\n",
        "args_dict = {\n",
        "    \"gpu\": True,\n",
        "    \"valid\": False,\n",
        "    \"checkpoint\": \"\",\n",
        "    \"colours\": \"./data/colours/colour_kmeans24_cat7.npy\",\n",
        "    \"model\": \"UNet\",\n",
        "    \"kernel\": 3,\n",
        "    \"num_filters\": 32,\n",
        "    'learn_rate':0.001,\n",
        "    \"batch_size\": 100,\n",
        "    \"epochs\": 25,\n",
        "    \"seed\": 0,\n",
        "    \"plot\": True,\n",
        "    \"experiment_name\": \"colourization_cnn\",\n",
        "    \"visualize\": False,\n",
        "    \"downsize_input\": False,\n",
        "}\n",
        "args.update(args_dict)\n",
        "cnn = train(args)"
      ]
    },
    {
      "cell_type": "markdown",
      "source": [
        "For epoch = 25, new training loss = 0.0052 which is much lower than before. Skip connections improve the validation loss and accuracy and improve the output qualitatively.\n",
        "\n",
        "It is difficult to fully retain the features with the forward propagation layer by layer. With skip connection, you can increase network depth without hurting performance. e.g. if first layers converge on solution, it can easily learn to ignore remaining layers. It utilizes the previous layer as input which includes original features. Technically, the skip connection is the identity function, not a linear. So it is identity + perturbations. The activation function could give a linear transformation, but with any activation you use these days they are nonlinear.\n",
        "\n",
        "Skip connection reatin the charactristics of the input data to be learned without loss of the input data information. While the skip connection increases the path, it acts as an ensemble. Randomly deleting some layers (except the POOL layer) during prediction has little effect on the accuracy of the network. The structure of resnet makes the effective gradient propagation path shorter. DropPath enhances the independence of the shallow network during training, so that it does not rely solely on the optimization of the network behind it (essentially, it also makes the gradient easier to transmit to the shallow layer)"
      ],
      "metadata": {
        "id": "EOOliiyM1tBD"
      }
    },
    {
      "cell_type": "markdown",
      "metadata": {
        "id": "W6fl2PcliJTd"
      },
      "source": [
        "### Part (c) [2 pt]\n",
        "Re-train a few more \"UNet\" models using different mini batch sizes with a fixed number of epochs. Describe the effect of batch sizes on the training/validation loss, and the final image output."
      ]
    },
    {
      "cell_type": "markdown",
      "source": [
        "\"batch_size\": 200, final loss = 0.0049, \"batch_size\": 50, final loss = 0.0045, \"batch_size\": 25, final loss = 0.0032,\n",
        "\n",
        "training/validation loss and image quality increase as batch size decreases."
      ],
      "metadata": {
        "id": "Qm44Yc1X11Vw"
      }
    },
    {
      "cell_type": "code",
      "execution_count": null,
      "metadata": {
        "id": "ZWF83JjpiJTd"
      },
      "outputs": [],
      "source": [
        "# complete the code\n",
        "args = AttrDict()\n",
        "args_dict = {\n",
        "    \"gpu\": True,\n",
        "    \"valid\": False,\n",
        "    \"checkpoint\": \"\",\n",
        "    \"colours\": \"./data/colours/colour_kmeans24_cat7.npy\",\n",
        "    \"model\": \"UNet\",\n",
        "    \"kernel\": 3,\n",
        "    \"num_filters\": 32,\n",
        "    'learn_rate':0.001,\n",
        "    \"batch_size\": 50,\n",
        "    \"epochs\": 25,\n",
        "    \"seed\": 0,\n",
        "    \"plot\": True,\n",
        "    \"experiment_name\": \"colourization_cnn\",\n",
        "    \"visualize\": False,\n",
        "    \"downsize_input\": False,\n",
        "}\n",
        "args.update(args_dict)\n",
        "cnn = train(args)"
      ]
    },
    {
      "cell_type": "code",
      "source": [
        "# complete the code\n",
        "args = AttrDict()\n",
        "args_dict = {\n",
        "    \"gpu\": True,\n",
        "    \"valid\": False,\n",
        "    \"checkpoint\": \"\",\n",
        "    \"colours\": \"./data/colours/colour_kmeans24_cat7.npy\",\n",
        "    \"model\": \"UNet\",\n",
        "    \"kernel\": 3,\n",
        "    \"num_filters\": 32,\n",
        "    'learn_rate':0.001,\n",
        "    \"batch_size\": 25,\n",
        "    \"epochs\": 25,\n",
        "    \"seed\": 0,\n",
        "    \"plot\": True,\n",
        "    \"experiment_name\": \"colourization_cnn\",\n",
        "    \"visualize\": False,\n",
        "    \"downsize_input\": False,\n",
        "}\n",
        "args.update(args_dict)\n",
        "cnn = train(args)"
      ],
      "metadata": {
        "id": "NuX2frqB16y4"
      },
      "execution_count": null,
      "outputs": []
    },
    {
      "cell_type": "code",
      "source": [
        "# complete the code\n",
        "args = AttrDict()\n",
        "args_dict = {\n",
        "    \"gpu\": True,\n",
        "    \"valid\": False,\n",
        "    \"checkpoint\": \"\",\n",
        "    \"colours\": \"./data/colours/colour_kmeans24_cat7.npy\",\n",
        "    \"model\": \"UNet\",\n",
        "    \"kernel\": 3,\n",
        "    \"num_filters\": 32,\n",
        "    'learn_rate':0.001,\n",
        "    \"batch_size\": 200,\n",
        "    \"epochs\": 25,\n",
        "    \"seed\": 0,\n",
        "    \"plot\": True,\n",
        "    \"experiment_name\": \"colourization_cnn\",\n",
        "    \"visualize\": False,\n",
        "    \"downsize_input\": False,\n",
        "}\n",
        "args.update(args_dict)\n",
        "cnn = train(args)"
      ],
      "metadata": {
        "id": "0b-RRRux1-hY"
      },
      "execution_count": null,
      "outputs": []
    },
    {
      "cell_type": "markdown",
      "metadata": {
        "id": "YCjRpOlEuuJj"
      },
      "source": [
        "# PART B - Conditional GAN [30 pt]\n",
        "\n",
        "In this second half of the assignment we will construct a conditional generative adversarial network for our image colourization task."
      ]
    },
    {
      "cell_type": "markdown",
      "metadata": {
        "id": "bNgohSYXiWnD"
      },
      "source": [
        "## Part 1. Conditional GAN [15 pt]\n",
        "\n",
        "To start we will be modifying the previous sample code to construct and train a conditional GAN. We will exploring the different architectures to identify and select our best image colourization model.\n",
        "\n",
        "Note: This second half of the assignment should be started after the lecture on generative adversarial networks (GANs).\n"
      ]
    },
    {
      "cell_type": "markdown",
      "metadata": {
        "id": "R-TzCQBe_6Uk"
      },
      "source": [
        "### Part (a) [3 pt]\n",
        "Modify the provided training code to implement a generator. Then test to verify it works on the desired input (Hint: you can reuse some of your earlier autoencoder models here to act as a generator)"
      ]
    },
    {
      "cell_type": "code",
      "execution_count": null,
      "metadata": {
        "id": "VRB4eJQIFFAD"
      },
      "outputs": [],
      "source": [
        "class Generator(nn.Module):\n",
        "    def __init__(self, kernel=3, num_filters=32, num_colours=3, num_in_channels=1):\n",
        "        super().__init__()\n",
        "\n",
        "        # Useful parameters\n",
        "        stride = 2\n",
        "        padding = kernel // 2\n",
        "        output_padding = 1\n",
        "\n",
        "        ############### YOUR CODE GOES HERE ###############\n",
        "        ###################################################\n",
        "        self.downconv1 = nn.Sequential(\n",
        "            nn.Conv2d(num_in_channels, num_filters, kernel_size=kernel+2, padding=padding+1),\n",
        "            nn.BatchNorm2d(num_filters),\n",
        "            nn.ReLU(),\n",
        "            nn.AvgPool2d(2),)\n",
        "        self.downconv2 = nn.Sequential(\n",
        "            nn.Conv2d(num_filters, num_filters*2, kernel_size=kernel, padding=padding),\n",
        "            nn.BatchNorm2d(num_filters*2),\n",
        "            nn.ReLU(),\n",
        "            nn.MaxPool2d(2),)\n",
        "\n",
        "        self.rfconv = nn.Sequential(\n",
        "            nn.Conv2d(num_filters*2, num_filters*2, kernel_size=kernel, padding=padding),\n",
        "            nn.BatchNorm2d(num_filters*2),\n",
        "            nn.ReLU())\n",
        "\n",
        "        self.upconv1 = nn.Sequential(\n",
        "            nn.Conv2d(2*num_filters*2, num_filters, kernel_size=kernel, padding=padding),\n",
        "            nn.BatchNorm2d(num_filters),\n",
        "            nn.ReLU(),\n",
        "            nn.Upsample(scale_factor=2),)\n",
        "        self.upconv2 = nn.Sequential(\n",
        "            nn.Conv2d(2*num_filters, num_colours, kernel_size=kernel, padding=padding),\n",
        "            nn.BatchNorm2d(3),\n",
        "            nn.ReLU(),\n",
        "            nn.Upsample(scale_factor=2),)\n",
        "        self.finalconv = nn.Conv2d(num_colours+num_in_channels, num_colours, kernel_size=kernel, padding=output_padding)\n",
        "\n",
        "\n",
        "\n",
        "    def forward(self, x, labels):\n",
        "        ############### YOUR CODE GOES HERE ###############\n",
        "        ###################################################\n",
        "        out1 = self.downconv1(x)\n",
        "        out2 = self.downconv2(out1)\n",
        "        out3 = self.rfconv(out2)\n",
        "        out4 = self.upconv1(torch.cat((out2,out3),1))\n",
        "        out5 = self.upconv2(torch.cat((out1,out4),1))\n",
        "        out6 = self.finalconv(torch.cat((x,out5),1))\n",
        "\n",
        "        return out6"
      ]
    },
    {
      "cell_type": "code",
      "execution_count": null,
      "metadata": {
        "id": "-TpgRI8uYieh"
      },
      "outputs": [],
      "source": [
        "generator = Generator().cuda()\n",
        "g_optimizer = torch.optim.Adam(generator.parameters(), lr=1e-4)\n",
        "batch_size = 32\n",
        "\n",
        "for i, (xs, ys) in enumerate(get_batch(train_grey, train_rgb, args.batch_size)):\n",
        "    images, labels = get_torch_vars(xs, ys, args.gpu)\n",
        "\n",
        "    g_optimizer.zero_grad()\n",
        "    outputs = generator(images, labels)\n",
        "\n",
        "if args.plot:\n",
        "    visual(images, labels, outputs, args.gpu, 1)"
      ]
    },
    {
      "cell_type": "markdown",
      "metadata": {
        "id": "4o4lkOgF_3A2"
      },
      "source": [
        "### Part (b) [3 pt]\n",
        "Modify the provided training code to implement a discriminator. Then test to verify it works on the desired input."
      ]
    },
    {
      "cell_type": "code",
      "execution_count": null,
      "metadata": {
        "id": "MHvxX5jrF0Pw"
      },
      "outputs": [],
      "source": [
        "class Discriminator(nn.Module):\n",
        "    def __init__(self, kernel, num_filters, num_colours=3, num_in_channels=1):\n",
        "        super().__init__()\n",
        "\n",
        "        self.label_emb = nn.Embedding(10, 10)\n",
        "\n",
        "        self.model = nn.Sequential(\n",
        "            nn.Linear(32*32*3, 1024),\n",
        "            nn.LeakyReLU(0.2, inplace=True),\n",
        "            nn.Dropout(0.3),\n",
        "            nn.Linear(1024, 512),\n",
        "            nn.LeakyReLU(0.2, inplace=True),\n",
        "            nn.Dropout(0.3),\n",
        "            nn.Linear(512, 256),\n",
        "            nn.LeakyReLU(0.2, inplace=True),\n",
        "            nn.Dropout(0.3),\n",
        "            nn.Linear(256, 1),\n",
        "            nn.Sigmoid()\n",
        "        )\n",
        "\n",
        "    def forward(self, x, img_greyscale):\n",
        "        x = x.view(x.size(0), 32*32*3)\n",
        "        out = self.model(x)\n",
        "        return out.squeeze()"
      ]
    },
    {
      "cell_type": "code",
      "source": [
        "Discriminator(kernel=0, num_filters=1)"
      ],
      "metadata": {
        "id": "rkdsJ_3_2Sr1"
      },
      "execution_count": null,
      "outputs": []
    },
    {
      "cell_type": "code",
      "source": [
        "# test discriminator architecture, same as the blog\n",
        "\n",
        "Dis_test = Discriminator(kernel=0, num_filters=1)\n",
        "img_greyscale = torch.rand(3,1,32,32)\n",
        "img_rgb = torch.rand(3,3,32,32)\n",
        "\n",
        "img_p = Dis_test(img_rgb, img_greyscale)\n",
        "img_p.shape"
      ],
      "metadata": {
        "id": "VeMoMh592SDl"
      },
      "execution_count": null,
      "outputs": []
    },
    {
      "cell_type": "code",
      "source": [
        "criterion = nn.BCELoss()\n",
        "discriminator = Discriminator(kernel=3, num_filters=16).cuda()\n",
        "for i, (xs, ys) in enumerate(get_batch(train_grey, train_rgb, args.batch_size)):\n",
        "    images, labels = get_torch_vars(xs, ys, args.gpu)\n",
        "    img_grey = images\n",
        "    img_real = labels\n",
        "    batch_size = args.batch_size\n",
        "    real_validity = discriminator(img_real, labels)\n",
        "    real_loss = criterion(real_validity, Variable(torch.ones(batch_size)).cuda())\n",
        "    print(real_validity, real_loss)\n",
        "    break"
      ],
      "metadata": {
        "id": "6mMbj0Is2cO_"
      },
      "execution_count": null,
      "outputs": []
    },
    {
      "cell_type": "markdown",
      "metadata": {
        "id": "tM8DcScdiWnD"
      },
      "source": [
        "### Part (c) [3 pt]\n",
        "Modify the provided training code to implement a conditional GAN."
      ]
    },
    {
      "cell_type": "code",
      "source": [
        "from torchvision import datasets\n",
        "import torchvision.transforms as transforms\n",
        "import numpy as np\n",
        "import torch\n",
        "import matplotlib.pyplot as plt\n",
        "import torch.optim as optim\n",
        "import torch.utils.data"
      ],
      "metadata": {
        "id": "CqJMbIo52hSX"
      },
      "execution_count": null,
      "outputs": []
    },
    {
      "cell_type": "code",
      "source": [
        "class AttrDict(dict):\n",
        "    def __init__(self, *args, **kwargs):\n",
        "        super(AttrDict, self).__init__(*args, **kwargs)\n",
        "        self.__dict__ = self\n",
        "\n",
        "def get_torch_vars(xs, ys, gpu=False):\n",
        "    \"\"\"\n",
        "    Helper function to convert numpy arrays to pytorch tensors.\n",
        "    If GPU is used, move the tensors to GPU.\n",
        "\n",
        "    Args:\n",
        "      xs (float numpy tenosor): greyscale input\n",
        "      ys (int numpy tenosor): categorical labels\n",
        "      gpu (bool): whether to move pytorch tensor to GPU\n",
        "    Returns:\n",
        "      Variable(xs), Variable(ys)\n",
        "    \"\"\"\n",
        "    xs = torch.from_numpy(xs).float()\n",
        "    ys = torch.from_numpy(ys).float() #--> ADDED for cGAN\n",
        "    if gpu:\n",
        "        xs = xs.cuda()\n",
        "        ys = ys.cuda()\n",
        "    return Variable(xs), Variable(ys)\n",
        "\n",
        "def train(args, cnn=None):\n",
        "    # Set the maximum number of threads to prevent crash in Teaching Labs\n",
        "    # TODO: necessary?\n",
        "    torch.set_num_threads(5)\n",
        "    # Numpy random seed\n",
        "    npr.seed(args.seed)\n",
        "\n",
        "    # Save directory\n",
        "    save_dir = \"outputs/\" + args.experiment_name\n",
        "\n",
        "    # LOAD THE COLOURS CATEGORIES\n",
        "\n",
        "    # INPUT CHANNEL\n",
        "    num_in_channels = 1 if not args.downsize_input else 3\n",
        "    # LOAD THE MODEL\n",
        "    if cnn is None:\n",
        "        Net1 = globals()[args.model1]\n",
        "        cnn = Net1(args.kernel, args.num_filters)\n",
        "        Net2 = globals()[args.model2]\n",
        "        discriminator = Net2(args.kernel, args.num_filters)\n",
        "\n",
        "\n",
        "    # LOSS FUNCTION\n",
        "\n",
        "    criterion =  nn.BCELoss()\n",
        "    g_optimizer = torch.optim.Adam(generator.parameters(), lr=1e-4)\n",
        "    d_optimizer = torch.optim.Adam(discriminator.parameters(), lr=1e-4)\n",
        "\n",
        "    # DATA\n",
        "    print(\"Loading data...\")\n",
        "    (x_train, y_train), (x_test, y_test) = load_cifar10()\n",
        "\n",
        "    print(\"Transforming data...\")\n",
        "    train_rgb, train_grey = process(x_train, y_train, downsize_input=args.downsize_input)\n",
        "    test_rgb, test_grey = process(x_test, y_test, downsize_input=args.downsize_input)\n",
        "\n",
        "    # Create the outputs folder if not created already\n",
        "    if not os.path.exists(save_dir):\n",
        "        os.makedirs(save_dir)\n",
        "\n",
        "    print(\"Beginning training ...\")\n",
        "    if args.gpu:\n",
        "        cnn.cuda()\n",
        "        discriminator.cuda()\n",
        "    start = time.time()\n",
        "\n",
        "    train_losses = []\n",
        "    valid_losses = []\n",
        "    valid_accs = []\n",
        "    epox = []\n",
        "    gloss = []\n",
        "    dloss = []\n",
        "\n",
        "    for epoch in range(args.epochs):\n",
        "\n",
        "        # Train the Model\n",
        "        cnn.train()\n",
        "        discriminator.train()\n",
        "        losses = []\n",
        "\n",
        "        for i, (xs, ys) in enumerate(get_batch(train_grey, train_rgb, args.batch_size)):\n",
        "            images, labels = get_torch_vars(xs, ys, args.gpu)\n",
        "\n",
        "            #--->ADDED 5\n",
        "            img_grey = images\n",
        "            img_real = labels\n",
        "            batch_size = args.batch_size\n",
        "\n",
        "            #discriminator training\n",
        "            d_optimizer.zero_grad()\n",
        "            real_validity = discriminator(img_real, labels)\n",
        "            real_loss = criterion(real_validity, Variable(torch.ones(batch_size)).cuda())\n",
        "            fake_labels = img_real.cuda()\n",
        "            fake_images = generator(img_grey, fake_labels)\n",
        "            fake_validity = discriminator(fake_images, fake_labels)\n",
        "            fake_loss = criterion(fake_validity, Variable(torch.zeros(batch_size)).cuda())\n",
        "            d_loss = real_loss + fake_loss\n",
        "\n",
        "\n",
        "            d_loss.backward()\n",
        "            d_optimizer.step()\n",
        "\n",
        "            # generator training\n",
        "            g_optimizer.zero_grad()\n",
        "            fake_labels = img_real.cuda()\n",
        "            fake_images = generator(img_grey, fake_labels)\n",
        "            validity = discriminator(fake_images, fake_labels)\n",
        "            g_loss = criterion(validity, Variable(torch.ones(batch_size)).cuda())\n",
        "\n",
        "\n",
        "\n",
        "\n",
        "            g_loss.backward()\n",
        "            g_optimizer.step()\n",
        "\n",
        "\n",
        "        epox.append(epoch)\n",
        "        gloss.append(g_loss.data.item())\n",
        "        dloss.append(d_loss.data.item())\n",
        "        # print and visualize\n",
        "        print(epoch, g_loss.cpu().detach(), d_loss.cpu().detach())\n",
        "        visual(images, labels, fake_images, args.gpu, 1)\n",
        "    plt.title(\"Training Curve\")\n",
        "    plt.plot(epox, gloss, label=\"Generator\")\n",
        "    plt.plot(epox, dloss, label=\"Discriminator\")\n",
        "    plt.xlabel(\"Epoches\")\n",
        "    plt.ylabel(\"Loss\")\n",
        "    plt.legend(loc='best')\n",
        "    plt.show()\n",
        "\n",
        "    return cnn"
      ],
      "metadata": {
        "id": "yXSLdqsI6doP"
      },
      "execution_count": null,
      "outputs": []
    },
    {
      "cell_type": "code",
      "source": [
        "class AttrDict(dict):\n",
        "    def __init__(self, *args, **kwargs):\n",
        "        super(AttrDict, self).__init__(*args, **kwargs)\n",
        "        self.__dict__ = self\n",
        "\n",
        "def get_torch_vars(xs, ys, gpu=False):\n",
        "    \"\"\"\n",
        "    Helper function to convert numpy arrays to pytorch tensors.\n",
        "    If GPU is used, move the tensors to GPU.\n",
        "\n",
        "    Args:\n",
        "      xs (float numpy tenosor): greyscale input\n",
        "      ys (int numpy tenosor): categorical labels\n",
        "      gpu (bool): whether to move pytorch tensor to GPU\n",
        "    Returns:\n",
        "      Variable(xs), Variable(ys)\n",
        "    \"\"\"\n",
        "    xs = torch.from_numpy(xs).float()\n",
        "    ys = torch.from_numpy(ys).float() #--> ADDED for cGAN\n",
        "    if gpu:\n",
        "        xs = xs.cuda()\n",
        "        ys = ys.cuda()\n",
        "    return Variable(xs), Variable(ys)\n",
        "\n",
        "def train(args, generator=None):\n",
        "    # Set the maximum number of threads to prevent crash in Teaching Labs\n",
        "    # TODO: necessary?\n",
        "    torch.set_num_threads(5)\n",
        "    # Numpy random seed\n",
        "    npr.seed(args.seed)\n",
        "\n",
        "    # Save directory\n",
        "    save_dir = \"outputs/\" + args.experiment_name\n",
        "\n",
        "    # LOAD THE COLOURS CATEGORIES\n",
        "\n",
        "    # INPUT CHANNEL\n",
        "    num_in_channels = 1 if not args.downsize_input else 3\n",
        "    # LOAD THE MODEL\n",
        "    if generator is None:\n",
        "        Net1 = globals()[args.model1]\n",
        "        generator = Net1(args.kernel, args.num_filters)\n",
        "        Net2 = globals()[args.model2]\n",
        "        discriminator = Net2(args.kernel, args.num_filters)\n",
        "\n",
        "\n",
        "    # LOSS FUNCTION\n",
        "\n",
        "    criterion =  nn.BCELoss()\n",
        "    g_optimizer = torch.optim.Adam(generator.parameters(), lr=1e-4)\n",
        "    d_optimizer = torch.optim.Adam(discriminator.parameters(), lr=1e-4)\n",
        "\n",
        "    # DATA\n",
        "    print(\"Loading data...\")\n",
        "    (x_train, y_train), (x_test, y_test) = load_cifar10()\n",
        "\n",
        "    print(\"Transforming data...\")\n",
        "    train_rgb, train_grey = process(x_train, y_train, downsize_input=args.downsize_input)\n",
        "    test_rgb, test_grey = process(x_test, y_test, downsize_input=args.downsize_input)\n",
        "\n",
        "    # Create the outputs folder if not created already\n",
        "    if not os.path.exists(save_dir):\n",
        "        os.makedirs(save_dir)\n",
        "\n",
        "    print(\"Beginning training ...\")\n",
        "    if args.gpu:\n",
        "        generator.cuda()\n",
        "        discriminator.cuda()\n",
        "    start = time.time()\n",
        "\n",
        "    train_losses = []\n",
        "    valid_losses = []\n",
        "    valid_accs = []\n",
        "    epox = []\n",
        "    gloss = []\n",
        "    dloss = []\n",
        "\n",
        "    for epoch in range(args.epochs):\n",
        "\n",
        "        # Train the Model\n",
        "        generator.train()\n",
        "        discriminator.train()\n",
        "        losses = []\n",
        "\n",
        "        for i, (xs, ys) in enumerate(get_batch(train_grey, train_rgb, args.batch_size)):\n",
        "            images, labels = get_torch_vars(xs, ys, args.gpu)\n",
        "\n",
        "            #--->ADDED 5\n",
        "            img_grey = images\n",
        "            img_real = labels\n",
        "            batch_size = args.batch_size\n",
        "\n",
        "            #discriminator training\n",
        "            d_optimizer.zero_grad()\n",
        "            real_validity = discriminator(img_real, labels)\n",
        "            real_loss = criterion(real_validity, Variable(torch.ones(batch_size)).cuda())\n",
        "            fake_labels = img_real.cuda()\n",
        "            fake_images = generator(img_grey, fake_labels)\n",
        "            fake_validity = discriminator(fake_images, fake_labels)\n",
        "            fake_loss = criterion(fake_validity, Variable(torch.zeros(batch_size)).cuda())\n",
        "            d_loss = real_loss + fake_loss\n",
        "\n",
        "\n",
        "            d_loss.backward()\n",
        "            d_optimizer.step()\n",
        "\n",
        "            # generator training\n",
        "            g_optimizer.zero_grad()\n",
        "            fake_labels = img_real.cuda()\n",
        "            fake_images = generator(img_grey, fake_labels)\n",
        "            validity = discriminator(fake_images, fake_labels)\n",
        "            g_loss = criterion(validity, Variable(torch.ones(batch_size)).cuda())\n",
        "\n",
        "\n",
        "\n",
        "            g_loss.backward()\n",
        "            g_optimizer.step()\n",
        "\n",
        "\n",
        "        epox.append(epoch)\n",
        "        gloss.append(g_loss.data.item())\n",
        "        dloss.append(d_loss.data.item())\n",
        "        # print and visualize\n",
        "        print(epoch, g_loss.cpu().detach(), d_loss.cpu().detach())\n",
        "        visual(images, labels, fake_images, args.gpu, 1)\n",
        "    plt.title(\"Training Curve\")\n",
        "    plt.plot(epox, gloss, label=\"Generator\")\n",
        "    plt.plot(epox, dloss, label=\"Discriminator\")\n",
        "    plt.xlabel(\"Epoches\")\n",
        "    plt.ylabel(\"Loss\")\n",
        "    plt.legend(loc='best')\n",
        "    plt.show()\n",
        "\n",
        "    return generator"
      ],
      "metadata": {
        "id": "gCJq87za6YC-"
      },
      "execution_count": null,
      "outputs": []
    },
    {
      "cell_type": "markdown",
      "metadata": {
        "id": "9KnN4Bc8iv_Y"
      },
      "source": [
        "### Part (d) [3 pt]\n",
        "Train a conditional GAN for image colourization."
      ]
    },
    {
      "cell_type": "code",
      "execution_count": null,
      "metadata": {
        "id": "efwUBO_Yiv_Y"
      },
      "outputs": [],
      "source": [
        "args = AttrDict()\n",
        "args_dict = {\n",
        "    \"gpu\": True,\n",
        "    \"valid\": False,\n",
        "    \"checkpoint\": \"\",\n",
        "    \"colours\": \"./data/colours/colour_kmeans24_cat7.npy\",\n",
        "    \"model1\": \"Generator\",\n",
        "    \"model2\": \"Discriminator\",\n",
        "    \"kernel\": 3,\n",
        "    \"num_filters\": 16,\n",
        "    'learn_rate':0.001,\n",
        "    \"batch_size\": 50,\n",
        "    \"epochs\": 100,\n",
        "    \"seed\": 0,\n",
        "    \"plot\": False,\n",
        "    \"experiment_name\": \"colourization_cnn\",\n",
        "    \"visualize\": False,\n",
        "    \"downsize_input\": False,\n",
        "}\n",
        "args.update(args_dict)\n",
        "cnn = train(args)\n",
        "\n",
        "#batch size of 50 with 100 epochs seamed to work"
      ]
    },
    {
      "cell_type": "code",
      "source": [
        "args = AttrDict()\n",
        "args_dict = {\n",
        "    \"gpu\": True,\n",
        "    \"valid\": False,\n",
        "    \"checkpoint\": \"\",\n",
        "    \"colours\": \"./data/colours/colour_kmeans24_cat7.npy\",\n",
        "    \"model1\": \"Generator\",\n",
        "    \"model2\": \"Discriminator\",\n",
        "    \"kernel\": 3,\n",
        "    \"num_filters\": 16,\n",
        "    'learn_rate':0.001,\n",
        "    \"batch_size\": 50,\n",
        "    \"epochs\": 100,\n",
        "    \"seed\": 0,\n",
        "    \"plot\": False,\n",
        "    \"experiment_name\": \"colourization_cnn\",\n",
        "    \"visualize\": False,\n",
        "    \"downsize_input\": False,\n",
        "}\n",
        "args.update(args_dict)\n",
        "cnn = train(args)"
      ],
      "metadata": {
        "id": "jYu24sF922nf"
      },
      "execution_count": null,
      "outputs": []
    },
    {
      "cell_type": "markdown",
      "metadata": {
        "id": "S0ntCfgQkCAF"
      },
      "source": [
        "### Part (e) [1 pt]\n",
        "How does the performance of the cGAN compare with the autoencoder models that you tested in the first half of this assignment?"
      ]
    },
    {
      "cell_type": "markdown",
      "metadata": {
        "id": "stxojIJXkGvv"
      },
      "source": [
        "Answer:The performance of the cGAN is better than autoencoder models. The colaraliztion of cGan is more \"realistic\". cGAN learns more about \"how can I make an image look real in general\" rather than autoencoder's main idea which is \"how can I memorise this particular set of images with the greatest accuracy/efficiency\". An autoencoder learns to represent some input information very efficiently, and subsequently how to reconstruct the input from it's compressed form. A GAN is a generative model. Autoencoders just reconstruct their inputs and can’t generate realistic new samples.\n",
        "\n",
        "Autoencoders learn a given distribution comparing its input to its output, this is good for learning hidden representations of data, but is pretty bad for generating new data. Mainly because we learn an averaged representation of the data thus the output becomes pretty blurry.\n",
        "\n",
        "Generative Adversarial Networks take an entirely different approach. They use another network (so-called Discriminator) to measure the distance between the generated and the real data. Basically what it does is distinguishing the real data from the generated. It receives some data as an input and returns a number between 0 and 1. 0 meaning the data is fake and 1 meaning it is real. The generators goal then is learning to convince the Discriminator into believing it is generating real data."
      ]
    },
    {
      "cell_type": "markdown",
      "metadata": {
        "id": "t2ez4CJdgQvP"
      },
      "source": [
        "### Part (f) [2 pt]\n",
        "\n",
        "A colour space is a choice of mapping of colours into three-dimensional coordinates. Some colours could be close together in one colour space, but further apart in others. The RGB colour space is probably the most familiar to you, the model used in in our regression colourization example computes squared error in RGB colour space. But, most state of the art colourization models\n",
        "do not use RGB colour space. How could using the RGB colour space be problematic? Your answer should relate how human perception of colour is different than the squared distance. You may use the Wikipedia article on colour space to help you answer the question."
      ]
    },
    {
      "cell_type": "code",
      "source": [],
      "metadata": {
        "id": "hHouf5sv3BTQ"
      },
      "execution_count": null,
      "outputs": []
    },
    {
      "cell_type": "markdown",
      "metadata": {
        "id": "b5WXfVI7gQvQ"
      },
      "source": [
        "Answer:The main reason is that the 3 color components present in the RGB color space are not intuitively related to the final color. In comparison, the HSV/HSB color space describes color through three dimensions: Hue, Saturation, Value/Brightness. Moreover, RGB is not good for image processing or storage as the human eye sees green best. For example, it cannot represent shape of objects.\n",
        "\n",
        "The HSV space is not only more in line with the way humans perceive color, but also has a concise and complete description of color. For example, the chromaticity range of red in HSV color space is (0-10) and (160-180), while red is not easy to expressed in RGB space. Of course, we know that pure red is (255,0,0), but except pure red there are so many kinds of red, it is not easy to define the range of red in the RGB space.\n",
        "\n",
        "HSV and HSB are different names for the same color space. It is constructed according to the human eye's perception principle of color and consists of three components: hue, saturation and lightness. Hue corresponds to the wavelength of the color, which represents the various colors that the human eye can perceive, such as red, yellow, violet, etc. Hue values ​​can be represented by a color circle distributed over a plane. The saturation of HSV refers to the difference between the hue and the neutral gray (Neutral Gray) located in the center of the color circle, and it is usually expressed as a value (or percentage) from 0 to 1. When the value is 0 (located in the center of the color circle), it means no color (medium gray), and when it takes the maximum value (located on the circumference of the color circle), it means that the color is the most vivid, and it is the purest color defined by the hue. Brightness refers to the intensity of light, the larger the value, the lighter the color. In the HSV model, from the vertex of the inverted cone to the center of the color circle, the brightness increases from small to large. The HSV model is constructed according to the human eye's perception principle of color.\n",
        "\n",
        "The third component of the SI and HSL color spaces is also differentiated from HSV. HSV uses Luminance, which represents the intensity of light, as the third component, while HSI uses Intensity, which represents the change from black to white, and HSL uses Luminance, which represents how much white is, as the third component. Lightness, grayscale, or brightness are all used to control the shading of a color. The smaller the value, the closer the color is to black; the larger the value, the closer the color is to white."
      ]
    },
    {
      "cell_type": "markdown",
      "metadata": {
        "id": "jda8pXEQ4HKa"
      },
      "source": [
        "## Part 2. Exploration [10 pt]\n",
        "\n",
        "At this point we have trained a few different generative models for our image colourization task with varying results. What makes this work exciting is that there many other approaches we could take. In this part of the assignment you will be exploring at least one of several approaches towards improving our performance on the image colourization task. Some well known approaches you can consider include:\n",
        "\n",
        "- lab colour space representation instead of RBG which simplifies the problem and requires you to predict two output channels instead of three\n",
        "- k-means to represent RBG colourspace by 'k' distinct colours, this effectively changes the problem from regression to classification.\n",
        "\n",
        "Other interesting approaches include:\n",
        "- combining L1 loss along with the discriminator-based loss\n",
        "- starting with a pretrained generator (i.e. Resnet)\n",
        "- patch discriminator trained on local regions\n",
        "\n",
        "A great example of some of these different approaches can be found in a <a href=\"https://towardsdatascience.com/colorizing-black-white-images-with-u-net-and-conditional-gan-a-tutorial-81b2df111cd8\">blog post by Moein Shariatnia</a>.\n",
        "\n",
        "Note you are only required to pick one of the suggested modifications."
      ]
    },
    {
      "cell_type": "code",
      "execution_count": null,
      "metadata": {
        "id": "IT_h0FoSEa8F"
      },
      "outputs": [],
      "source": [
        "# provide your code here\n",
        "class AttrDict(dict):\n",
        "    def __init__(self, *args, **kwargs):\n",
        "        super(AttrDict, self).__init__(*args, **kwargs)\n",
        "        self.__dict__ = self\n",
        "\n",
        "def get_torch_vars(xs, ys, gpu=False):\n",
        "    \"\"\"\n",
        "    Helper function to convert numpy arrays to pytorch tensors.\n",
        "    If GPU is used, move the tensors to GPU.\n",
        "\n",
        "    Args:\n",
        "      xs (float numpy tenosor): greyscale input\n",
        "      ys (int numpy tenosor): categorical labels\n",
        "      gpu (bool): whether to move pytorch tensor to GPU\n",
        "    Returns:\n",
        "      Variable(xs), Variable(ys)\n",
        "    \"\"\"\n",
        "    xs = torch.from_numpy(xs).float()\n",
        "    ys = torch.from_numpy(ys).float() #--> ADDED for cGAN\n",
        "    if gpu:\n",
        "        xs = xs.cuda()\n",
        "        ys = ys.cuda()\n",
        "    return Variable(xs), Variable(ys)\n",
        "\n",
        "def train(args, generator=None):\n",
        "    # Set the maximum number of threads to prevent crash in Teaching Labs\n",
        "    # TODO: necessary?\n",
        "    torch.set_num_threads(5)\n",
        "    # Numpy random seed\n",
        "    npr.seed(args.seed)\n",
        "\n",
        "    # Save directory\n",
        "    save_dir = \"outputs/\" + args.experiment_name\n",
        "\n",
        "    # LOAD THE COLOURS CATEGORIES\n",
        "\n",
        "    # INPUT CHANNEL\n",
        "    num_in_channels = 1 if not args.downsize_input else 3\n",
        "    # LOAD THE MODEL\n",
        "    if generator is None:\n",
        "        Net1 = globals()[args.model1]\n",
        "        generator = Net1(args.kernel, args.num_filters)\n",
        "        Net2 = globals()[args.model2]\n",
        "        discriminator = Net2(args.kernel, args.num_filters)\n",
        "\n",
        "\n",
        "    # LOSS FUNCTION\n",
        "\n",
        "    criterion =  nn.BCELoss()\n",
        "    dis_loss = nn.L1Loss()\n",
        "    g_optimizer = torch.optim.Adam(generator.parameters(), lr=1e-4)\n",
        "    d_optimizer = torch.optim.Adam(discriminator.parameters(), lr=1e-4)\n",
        "\n",
        "    # DATA\n",
        "    print(\"Loading data...\")\n",
        "    (x_train, y_train), (x_test, y_test) = load_cifar10()\n",
        "\n",
        "    print(\"Transforming data...\")\n",
        "    train_rgb, train_grey = process(x_train, y_train, downsize_input=args.downsize_input)\n",
        "    test_rgb, test_grey = process(x_test, y_test, downsize_input=args.downsize_input)\n",
        "\n",
        "    # Create the outputs folder if not created already\n",
        "    if not os.path.exists(save_dir):\n",
        "        os.makedirs(save_dir)\n",
        "\n",
        "    print(\"Beginning training ...\")\n",
        "    if args.gpu:\n",
        "        generator.cuda()\n",
        "        discriminator.cuda()\n",
        "    start = time.time()\n",
        "\n",
        "    train_losses = []\n",
        "    valid_losses = []\n",
        "    valid_accs = []\n",
        "    epox = []\n",
        "    gloss = []\n",
        "    dloss = []\n",
        "\n",
        "    for epoch in range(args.epochs):\n",
        "\n",
        "        # Train the Model\n",
        "        generator.train()\n",
        "        discriminator.train()\n",
        "        losses = []\n",
        "\n",
        "        for i, (xs, ys) in enumerate(get_batch(train_grey, train_rgb, args.batch_size)):\n",
        "            images, labels = get_torch_vars(xs, ys, args.gpu)\n",
        "\n",
        "            #--->ADDED 5\n",
        "            img_grey = images\n",
        "            img_real = labels\n",
        "            batch_size = args.batch_size\n",
        "\n",
        "            #discriminator training\n",
        "            d_optimizer.zero_grad()\n",
        "            real_validity = discriminator(img_real, labels)\n",
        "            real_loss = criterion(real_validity, Variable(torch.ones(batch_size)).cuda())\n",
        "            rl_l1 = dis_loss(real_validity, Variable(torch.ones(batch_size)).cuda())\n",
        "            fake_labels = img_real.cuda()\n",
        "            fake_images = generator(img_grey, fake_labels)\n",
        "            fake_validity = discriminator(fake_images, fake_labels)\n",
        "            fake_loss = criterion(fake_validity, Variable(torch.zeros(batch_size)).cuda())\n",
        "            fl_l1 = dis_loss(fake_validity, Variable(torch.zeros(batch_size)).cuda())\n",
        "            d_loss = 2*(real_loss + fake_loss + rl_l1 +fl_l1) / 4\n",
        "\n",
        "\n",
        "            d_loss.backward()\n",
        "            d_optimizer.step()\n",
        "\n",
        "            # generator training\n",
        "            g_optimizer.zero_grad()\n",
        "            fake_labels = img_real.cuda()\n",
        "            fake_images = generator(img_grey, fake_labels)\n",
        "            validity = discriminator(fake_images, fake_labels)\n",
        "            g_loss_1 = criterion(validity, Variable(torch.ones(batch_size)).cuda())\n",
        "            g_loss_2 = dis_loss(validity, Variable(torch.ones(batch_size)).cuda())\n",
        "            g_loss = (g_loss_1 + g_loss_2) / 2\n",
        "\n",
        "\n",
        "\n",
        "            g_loss.backward()\n",
        "            g_optimizer.step()\n",
        "\n",
        "\n",
        "        epox.append(epoch)\n",
        "        gloss.append(g_loss.data.item())\n",
        "        dloss.append(d_loss.data.item())\n",
        "        # print and visualize\n",
        "        print(epoch, g_loss.cpu().detach(), d_loss.cpu().detach())\n",
        "        visual(images, labels, fake_images, args.gpu, 1)\n",
        "    plt.title(\"Training Curve\")\n",
        "    plt.plot(epox, gloss, label=\"Generator\")\n",
        "    plt.plot(epox, dloss, label=\"Discriminator\")\n",
        "    plt.xlabel(\"Epoches\")\n",
        "    plt.ylabel(\"Loss\")\n",
        "    plt.legend(loc='best')\n",
        "    plt.show()\n",
        "\n",
        "    return generator\n",
        "\n",
        "\n",
        "\n",
        "\n",
        "\n",
        "\n",
        "\n"
      ]
    },
    {
      "cell_type": "code",
      "source": [
        "args = AttrDict()\n",
        "args_dict = {\n",
        "    \"gpu\": True,\n",
        "    \"valid\": False,\n",
        "    \"checkpoint\": \"\",\n",
        "    \"colours\": \"./data/colours/colour_kmeans24_cat7.npy\",\n",
        "    \"model1\": \"Generator\",\n",
        "    \"model2\": \"Discriminator\",\n",
        "    \"kernel\": 3,\n",
        "    \"num_filters\": 16,\n",
        "    'learn_rate':0.001,\n",
        "    \"batch_size\": 50,\n",
        "    \"epochs\": 100,\n",
        "    \"seed\": 0,\n",
        "    \"plot\": False,\n",
        "    \"experiment_name\": \"colourization_cnn\",\n",
        "    \"visualize\": False,\n",
        "    \"downsize_input\": False,\n",
        "}\n",
        "args.update(args_dict)\n",
        "cnn = train(args)"
      ],
      "metadata": {
        "id": "YymKlDMF3F6p"
      },
      "execution_count": null,
      "outputs": []
    },
    {
      "cell_type": "markdown",
      "metadata": {
        "id": "W04U6MhOjezG"
      },
      "source": [
        "## Part 3. New Data [5 pt]\n",
        "Retrieve sample pictures from online and demonstrate how well your best model performs. Provide all your code."
      ]
    },
    {
      "cell_type": "code",
      "execution_count": null,
      "metadata": {
        "id": "vskeipFLjezJ"
      },
      "outputs": [],
      "source": [
        "# provide your code here\n",
        "import os\n",
        "import pickle\n",
        "import sys\n",
        "import tarfile\n",
        "\n",
        "import numpy as np\n",
        "from PIL import Image\n",
        "from six.moves.urllib.request import urlretrieve\n",
        "\n",
        "\n",
        "# provide your code here\n",
        "def get_file(fname, origin, untar=False, extract=False, archive_format=\"auto\", cache_dir=\"data\"):\n",
        "    datadir = os.path.join(cache_dir)\n",
        "    if not os.path.exists(datadir):\n",
        "        os.makedirs(datadir)\n",
        "\n",
        "    if untar:\n",
        "        untar_fpath = os.path.join(datadir, fname)\n",
        "        fpath = untar_fpath + \".tar.gz\"\n",
        "    else:\n",
        "        fpath = os.path.join(datadir, fname)\n",
        "\n",
        "    print(\"File path: %s\" % fpath)\n",
        "    if not os.path.exists(fpath):\n",
        "        print(\"Downloading data from\", origin)\n",
        "\n",
        "        error_msg = \"URL fetch failure on {}: {} -- {}\"\n",
        "        try:\n",
        "            try:\n",
        "                urlretrieve(origin, fpath)\n",
        "            except URLError as e:\n",
        "                raise Exception(error_msg.format(origin, e.errno, e.reason))\n",
        "            except HTTPError as e:\n",
        "                raise Exception(error_msg.format(origin, e.code, e.msg))\n",
        "        except (Exception, KeyboardInterrupt) as e:\n",
        "            if os.path.exists(fpath):\n",
        "                os.remove(fpath)\n",
        "            raise\n",
        "\n",
        "    if untar:\n",
        "        if not os.path.exists(untar_fpath):\n",
        "            print(\"Extracting file.\")\n",
        "            with tarfile.open(fpath) as archive:\n",
        "                archive.extractall(datadir)\n",
        "        return untar_fpath\n",
        "\n",
        "    if extract:\n",
        "        _extract_archive(fpath, datadir, archive_format)\n",
        "\n",
        "    return fpath\n",
        "\n",
        "def load_newdata(transpose=False):\n",
        "    \"\"\"Loads new dataset.\n",
        "    # Returns\n",
        "        Tuple of Numpy arrays: `(x_train, y_train), (x_test, y_test)`.\n",
        "    \"\"\"\n",
        "    dirname = \"cifar-10-batches-py\"\n",
        "    origin = \"https://image-net.org/data/ILSVRC/2013/ILSVRC2013_devkit.tgz\"\n",
        "    path = get_file(dirname, origin=origin, untar=True)\n",
        "\n",
        "    num_train_samples = 50000\n",
        "\n",
        "    x_train = np.zeros((num_train_samples, 3, 32, 32), dtype=\"uint8\")\n",
        "    y_train = np.zeros((num_train_samples,), dtype=\"uint8\")\n",
        "\n",
        "    for i in range(1, 6):\n",
        "        fpath = os.path.join(path, \"data_batch_\" + str(i))\n",
        "        data, labels = load_batch(fpath)\n",
        "        x_train[(i - 1) * 10000 : i * 10000, :, :, :] = data\n",
        "        y_train[(i - 1) * 10000 : i * 10000] = labels\n",
        "\n",
        "    fpath = os.path.join(path, \"test_batch\")\n",
        "    x_test, y_test = load_batch(fpath)\n",
        "\n",
        "    y_train = np.reshape(y_train, (len(y_train), 1))\n",
        "    y_test = np.reshape(y_test, (len(y_test), 1))\n",
        "\n",
        "    if transpose:\n",
        "        x_train = x_train.transpose(0, 2, 3, 1)\n",
        "        x_test = x_test.transpose(0, 2, 3, 1)\n",
        "    return (x_train, y_train), (x_test, y_test)"
      ]
    },
    {
      "cell_type": "code",
      "source": [
        "print(\"Loading data...\")\n",
        "(x_train0, y_train0), (x_test0, y_test0) = load_newdata()\n",
        "\n",
        "print(\"Transforming data...\")\n",
        "train_rgb0, train_grey0 = process(x_train0, y_train0)\n",
        "test_rgb0, test_grey0 = process(x_test0, y_test0)"
      ],
      "metadata": {
        "id": "xHsjlKOt3PXP"
      },
      "execution_count": null,
      "outputs": []
    },
    {
      "cell_type": "code",
      "source": [
        "fig = plt.figure(figsize=(18, 10))\n",
        "for idx in np.arange(12):\n",
        "    ax = fig.add_subplot(3, 4, idx+1, xticks=[], yticks=[])\n",
        "    plt.imshow(np.transpose(train_rgb0[idx], (1, 2, 0)))\n",
        "    ax.set_title(7)"
      ],
      "metadata": {
        "id": "lT_ZZ3oU3R7J"
      },
      "execution_count": null,
      "outputs": []
    },
    {
      "cell_type": "code",
      "source": [
        "def train0(args, cnn=None):\n",
        "    torch.set_num_threads(5)\n",
        "    npr.seed(args.seed)\n",
        "    save_dir = \"outputs/\" + args.experiment_name\n",
        "    num_in_channels = 1 if not args.downsize_input else 3\n",
        "    if cnn is None:\n",
        "        Net1 = globals()[args.model1]\n",
        "        generator = Net1(args.kernel, args.num_filters)\n",
        "        Net2 = globals()[args.model2]\n",
        "        discriminator = Net2(args.kernel, args.num_filters)\n",
        "\n",
        "    criterion =  nn.BCELoss()\n",
        "    disloss = nn.L1Loss()\n",
        "    g_optimizer = torch.optim.Adam(generator.parameters(), lr=1e-4)\n",
        "    d_optimizer = torch.optim.Adam(discriminator.parameters(), lr=1e-4)\n",
        "    print(\"Loading new data...\")\n",
        "    (x_train0, y_train0), (x_test0, y_test0) = load_newdata()\n",
        "\n",
        "    print(\"Transforming new data...\")\n",
        "    if not os.path.exists(save_dir):\n",
        "        os.makedirs(save_dir)\n",
        "\n",
        "    print(\"Beginning training ...\")\n",
        "    if args.gpu:\n",
        "        generator.cuda()\n",
        "        discriminator.cuda()\n",
        "    start = time.time()\n",
        "\n",
        "    train_losses = []\n",
        "    valid_losses = []\n",
        "    valid_accs = []\n",
        "    ep = []\n",
        "    gloss = []\n",
        "    dloss = []\n",
        "\n",
        "    for epoch in range(args.epochs):\n",
        "\n",
        "        # Train the Model\n",
        "        generator.train()\n",
        "        discriminator.train()\n",
        "        losses = []\n",
        "\n",
        "        for i, (xs, ys) in enumerate(get_batch(train_grey0, train_rgb0, args.batch_size)):\n",
        "            images, labels = get_torch_vars(xs, ys, args.gpu)\n",
        "\n",
        "            #--->ADDED 5\n",
        "            img_grey = images\n",
        "            img_real = labels\n",
        "            batch_size = args.batch_size\n",
        "\n",
        "            #discriminator training\n",
        "            d_optimizer.zero_grad()\n",
        "            real_validity = discriminator(img_real, labels)\n",
        "            real_loss = criterion(real_validity, Variable(torch.ones(batch_size)).cuda())\n",
        "            real_loss_l1 = disloss(real_validity, Variable(torch.ones(batch_size)).cuda())\n",
        "            fake_labels = img_real.cuda()\n",
        "            fake_images = generator(img_grey, fake_labels)\n",
        "            fake_validity = discriminator(fake_images, fake_labels)\n",
        "            fake_loss = criterion(fake_validity, Variable(torch.zeros(batch_size)).cuda())\n",
        "            fake_loss_l1 = disloss(fake_validity, Variable(torch.zeros(batch_size)).cuda())\n",
        "            d_loss = (real_loss + fake_loss + real_loss_l1 + fake_loss_l1) / 2\n",
        "\n",
        "\n",
        "            d_loss.backward()\n",
        "            d_optimizer.step()\n",
        "\n",
        "            # generator training\n",
        "            g_optimizer.zero_grad()\n",
        "            fake_labels = img_real.cuda()\n",
        "            fake_images = generator(img_grey, fake_labels)\n",
        "            validity = discriminator(fake_images, fake_labels)\n",
        "            g_loss_bce = criterion(validity, Variable(torch.ones(batch_size)).cuda())\n",
        "            g_loss_l1 = disloss(validity, Variable(torch.ones(batch_size)).cuda())\n",
        "            g_loss = (g_loss_bce + g_loss_l1)/2\n",
        "            g_loss.backward()\n",
        "            g_optimizer.step()\n",
        "\n",
        "\n",
        "        ep.append(epoch)\n",
        "        gloss.append(g_loss.data.item())\n",
        "        dloss.append(d_loss.data.item())\n",
        "        # print and visualize\n",
        "        print(epoch, g_loss.cpu().detach(), d_loss.cpu().detach())\n",
        "        visual(images, labels, fake_images, args.gpu, 1)\n",
        "    plt.title(\"Training Curve\")\n",
        "    plt.plot(ep, gloss, label=\"Generator\")\n",
        "    plt.plot(ep, dloss, label=\"Discriminator\")\n",
        "    plt.xlabel(\"Epoches\")\n",
        "    plt.ylabel(\"Loss\")\n",
        "    plt.legend(loc='best')\n",
        "    plt.show()\n",
        "\n",
        "    return generator"
      ],
      "metadata": {
        "id": "uqcHpcvd3U33"
      },
      "execution_count": null,
      "outputs": []
    },
    {
      "cell_type": "code",
      "source": [
        "args = AttrDict()\n",
        "args_dict = {\n",
        "    \"gpu\": True,\n",
        "    \"valid\": False,\n",
        "    \"checkpoint\": \"\",\n",
        "    \"colours\": \"./data/colours/colour_kmeans24_cat7.npy\",\n",
        "    \"model1\": \"Generatorskip\",\n",
        "    'model2' : 'Discriminator',\n",
        "    \"kernel\": 3,\n",
        "    \"num_filters\": 32,\n",
        "    'learn_rate':0.001,\n",
        "    \"batch_size\": 50,\n",
        "    \"epochs\": 100,\n",
        "    \"seed\": 0,\n",
        "    \"plot\": False,\n",
        "    \"experiment_name\": \"colourization_cnn\",\n",
        "    \"visualize\": False,\n",
        "    \"downsize_input\": False,\n",
        "}\n",
        "args.update(args_dict)\n",
        "cnn = train0(args)"
      ],
      "metadata": {
        "id": "lJSNbkE53WZ_"
      },
      "execution_count": null,
      "outputs": []
    },
    {
      "cell_type": "markdown",
      "metadata": {
        "id": "FYwI4RmFS2RB"
      },
      "source": [
        "### Saving to HTML\n",
        "Detailed instructions for saving to HTML can be found <a href=\"https://stackoverflow.com/questions/53460051/convert-ipynb-notebook-to-html-in-google-colab/64487858#64487858\">here</a>. Provided below are a summary of the instructions:\n",
        "\n",
        "(1) download your ipynb file by clicking on File->Download.ipynb\n",
        "\n",
        "(2) reupload your file to the temporary Google Colab storage (you can access the temporary storage from the tab to the left)\n",
        "\n",
        "(3) run the following:"
      ]
    },
    {
      "cell_type": "code",
      "execution_count": null,
      "metadata": {
        "id": "2TrsqdNgS5ex"
      },
      "outputs": [],
      "source": [
        "%%shell\n",
        "jupyter nbconvert --to html /content/Generating_Datapytorch.ipynb"
      ]
    },
    {
      "cell_type": "markdown",
      "metadata": {
        "id": "nuXhlFlPTY7F"
      },
      "source": [
        "(4) the html file will be available for download in the temporary Google Colab storage\n",
        "\n",
        "(5) review the html file and make sure all the results are visible before submitting your assignment to Quercus"
      ]
    }
  ],
  "metadata": {
    "accelerator": "GPU",
    "colab": {
      "provenance": []
    },
    "kernelspec": {
      "display_name": "Python 3 (ipykernel)",
      "language": "python",
      "name": "python3"
    },
    "language_info": {
      "codemirror_mode": {
        "name": "ipython",
        "version": 3
      },
      "file_extension": ".py",
      "mimetype": "text/x-python",
      "name": "python",
      "nbconvert_exporter": "python",
      "pygments_lexer": "ipython3",
      "version": "3.9.12"
    }
  },
  "nbformat": 4,
  "nbformat_minor": 0
}